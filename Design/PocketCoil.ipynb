{
 "cells": [
  {
   "cell_type": "markdown",
   "metadata": {},
   "source": [
    "# Pocket Coil\n",
    "-------------------------------------------------------------\n",
    "A simple pocket sized QRP load coil design for a telescoping antenna\n",
    "\n",
    "By: Ara Kourchians - N6ARA"
   ]
  },
  {
   "cell_type": "markdown",
   "metadata": {},
   "source": [
    "## Approach\n",
    "1) Use existing vertical antenna load coil models to calculate required inductance for a given frequency and length antenna\n",
    "\n",
    "2) Calculate coil turns for a given winding diameter and wire diameter\n",
    "\n",
    "3) Calculate counterpoise length"
   ]
  },
  {
   "cell_type": "markdown",
   "metadata": {},
   "source": [
    "## 1 - Antenna Load Coil Model\n",
    "\n",
    "### 1.1) Source: J. Hall, \"Off-center loaded dipole antennas\", QST Sept 1974, 28-34\n",
    "\n",
    "\\begin{equation}\n",
    "L_{\\mu H} = \\frac{10^6}{68 \\pi^2 f^2} \\left\\{ \\frac{ \\left[ ln \\frac{24 \\left(\\frac{234}{f} - B\\right)}{D} - 1 \\right] \\left[ \\left(1 - \\frac{fB}{234} \\right)^2 - 1 \\right] }{ \\frac{234}{f} - B } - \\frac{ \\left[ ln \\frac{24 \\left(\\frac{A}{2} - B\\right)}{D} - 1 \\right] \\left[ \\left(\\frac{ \\frac{fA}{2} - fB}{234} \\right)^2 - 1 \\right] }{ \\frac{A}{2} - B } \\right\\}\n",
    "\\end{equation}\n",
    "\n",
    "   <u>Where:</u> <br>\n",
    "   f = Frequency (MHz) <br>\n",
    "   A = Length of Dipole (ft) <br>\n",
    "   B = Distance from Feedpoint to Load Coil (ft) <br>\n",
    "   D = Diameter of radiator (in) <br>\n",
    "   <br><br>\n",
    "\n",
    "\n",
    "### 1.2) Simplify the equation by multiplying A by 2 so the input is the Vertical Antenna Length\n",
    "\n",
    "\\begin{equation}\n",
    "L_{\\mu H} = \\frac{10^6}{68 \\pi^2 f^2} \\left\\{ \\frac{ \\left[ ln \\frac{24 \\left(\\frac{234}{f} - B\\right)}{D} - 1 \\right] \\left[ \\left(1 - \\frac{fB}{234} \\right)^2 - 1 \\right] }{ \\frac{234}{f} - B } - \\frac{ \\left[ ln \\frac{24 \\left(A - B\\right)}{D} - 1 \\right] \\left[ \\left(\\frac{fA - fB}{234} \\right)^2 - 1 \\right] }{ A - B } \\right\\}\n",
    "\\end{equation}\n",
    "\n",
    "   <u>Where:</u> <br>\n",
    "   f = Frequency (MHz) <br>\n",
    "   A = Vertical Antenna Length (ft) <br>\n",
    "   B = Distance from Feedpoint to Load Coil (ft) <br>\n",
    "   D = Diameter of radiator (in) <br>\n",
    "   <br><br>\n",
    "\n",
    "### 1.3) Now we convert this equation into sensible units: <br>\n",
    "\n",
    "   1 m = 3.28084 ft <br>\n",
    "   1 mm = 0.0393701 in <br>\n",
    "\n",
    "\\begin{equation}\n",
    "L_{\\mu H} = \\frac{10^6}{68 \\pi^2 f^2} \\left\\{ \\frac{ \\left[ ln \\frac{24 \\left(\\frac{234}{f} - (B*3.28084)\\right)}{D*0.0393701} - 1 \\right] \\left[ \\left(1 - \\frac{f*(B*3.28084)}{234} \\right)^2 - 1 \\right] }{ \\frac{234}{f} - (B*3.28084) } - \\frac{ \\left[ ln \\frac{24 \\left((A*3.28084) - (B*3.28084)\\right)}{D*0.0393701} - 1 \\right] \\left[ \\left(\\frac{f(A*3.28084) - f*(B*3.28084)}{234} \\right)^2 - 1 \\right] }{ (A*3.28084) - (B*3.28084) } \\right\\}\n",
    "\\end{equation}\n",
    "\n",
    "   <u>Where:</u> <br>\n",
    "   f = Frequency (MHz) <br>\n",
    "   A = Vertical Antenna Length (m) <br>\n",
    "   B = Distance from Feedpoint to Load Coil (m) <br>\n",
    "   D = Diameter of radiator (mm) <br>\n",
    "   <br><br>"
   ]
  },
  {
   "cell_type": "code",
   "execution_count": 94,
   "metadata": {},
   "outputs": [],
   "source": [
    "import numpy as np\n",
    "\n",
    "f = 14.000  # (MHz) Desired Operating Frequency\n",
    "A = 0.9906  # (m)   Telescoping Antenna Length\n",
    "B = 0       # (m)   Distance from feedpoint to coil\n",
    "D = 4       # (mm)  Antenna Diameter"
   ]
  },
  {
   "cell_type": "code",
   "execution_count": 95,
   "metadata": {},
   "outputs": [
    {
     "name": "stdout",
     "output_type": "stream",
     "text": [
      "\n",
      "L_uH = 11.71514562668202 uH\n",
      "\n"
     ]
    }
   ],
   "source": [
    "LuH = (10**6)/(68*(np.pi**2)*(f**2)) * \\\n",
    "(\n",
    "\n",
    "( \n",
    "    ( \n",
    "    (np.log((24*((234/f)-(B*3.28084)))/(D*0.0393701)) - 1) * (((1-((f*(B*3.28084))/234))**2) - 1) \n",
    "    )\n",
    "    /( (234/f)-(B*3.28084) )\n",
    ")\n",
    "\n",
    "-\n",
    "\n",
    "( \n",
    "    ( \n",
    "    (np.log((24*((A*3.28084)-(B*3.28084)))/(D*0.0393701)) - 1) * (((((f*(A*3.28084))-(f*(B*3.28084)))/234)**2) - 1) \n",
    "    )\n",
    "    /( (A*3.28084)-(B*3.28084) ) \n",
    ")\n",
    "\n",
    ")\n",
    "\n",
    "print(\"\\nL_uH =\", LuH, \"uH\\n\")"
   ]
  },
  {
   "cell_type": "markdown",
   "metadata": {},
   "source": [
    "## 2 - Calculate Coil Turns\n",
    "\n",
    "### 2.1) Source: Inductor Coil Model - Fundamentals of Electromagnetism, Wentworth 1st Ed, p.466\n",
    "\n",
    "\\begin{equation}\n",
    "L_{coil} = \\frac{\\mu{N^2}\\pi{r^2}}{h}\n",
    "\\end{equation}\n",
    "\n",
    "   <u>Where:</u> <br>\n",
    "   L_coil = Inductance (H) <br>\n",
    "   N = Number of turns (#) <br>\n",
    "   mu = Relative Permeability <br>\n",
    "   r = Loop Radius (m) <br>\n",
    "   h = Coil Length (m) <br>\n",
    "   <br><br>\n",
    "   \n",
    "### 2.2)  Change loop area to loop diameter\n",
    "\n",
    "\\begin{equation}\n",
    "L_{coil} = \\frac{\\mu{N^2}\\pi \\left(\\frac{D}{2}\\right)^2}{h}\n",
    "\\end{equation}\n",
    "\n",
    "   <u>Where:</u> <br>\n",
    "   L_coil = Inductance (H) <br>\n",
    "   N = Number of turns (#) <br>\n",
    "   mu = Relative Permeability <br>\n",
    "   D = Loop Diameter (m) <br>\n",
    "   h = Coil Length (m) <br>\n",
    "   <br><br>\n",
    "\n",
    "### 2.3) Rearrange equation to solve for coil turns \n",
    "\n",
    "\\begin{equation}\n",
    "N = \\sqrt{\\frac{L_{coil} * h}{\\mu\\pi \\left( \\frac{D}{2} \\right)^2 }}\n",
    "\\end{equation}\n",
    "\n",
    "   <u>Where:</u> <br>\n",
    "   L_coil = Inductance (H) <br>\n",
    "   N = Number of turns (#) <br>\n",
    "   mu = Relative Permeability <br>\n",
    "   D = Loop Diameter (m) <br>\n",
    "   h = Coil Length (m) <br>\n",
    "   <br><br>"
   ]
  },
  {
   "cell_type": "code",
   "execution_count": 96,
   "metadata": {},
   "outputs": [],
   "source": [
    "L_coil = LuH          # uH\n",
    "mu = 1               # (const) Air\n",
    "D_coil = 0.016       # (m) Selected loop diameter\n",
    "H_coil = 0.055       # (m) Selected loop height"
   ]
  },
  {
   "cell_type": "code",
   "execution_count": 97,
   "metadata": {},
   "outputs": [
    {
     "name": "stdout",
     "output_type": "stream",
     "text": [
      "\n",
      "N = 56.60962358944353  turns\n",
      "\n"
     ]
    }
   ],
   "source": [
    "N = np.sqrt( (L_coil*H_coil) / (mu*np.pi*((D_coil/2)**2)) )\n",
    "\n",
    "print(\"\\nN =\", N, \" turns\\n\")"
   ]
  },
  {
   "cell_type": "code",
   "execution_count": 98,
   "metadata": {},
   "outputs": [
    {
     "name": "stdout",
     "output_type": "stream",
     "text": [
      "\n",
      "Pocket Coil Design Summary:\n",
      "\n",
      "Frequency = 14.000 MHz\n",
      "\n",
      "Coil Diameter = 0.02 m\n",
      "Coil Height = 0.055 m\n",
      "Coil Inductance = 11.715 uH\n",
      "\n",
      "N = 57 turns\n",
      "\n",
      "Counterpoise (ideal) = 5.09 m\n",
      "Counterpoise (drag/short) = 4.00 m\n"
     ]
    }
   ],
   "source": [
    "print(\"\\nPocket Coil Design Summary:\\n\")\n",
    "print(\"Frequency =\" , format(f, '.3f'), \"MHz\\n\")\n",
    "print(\"Coil Diameter =\" , format(D_coil, '.2f'), \"m\")\n",
    "print(\"Coil Height =\" , format(H_coil, '.3f'), \"m\")\n",
    "print(\"Coil Inductance =\" , format(L_coil, '.3f'), \"uH\\n\")\n",
    "print(\"N =\", format(N, '.0f'), \"turns\\n\")\n",
    "print(\"Counterpoise (ideal) =\", format(71.3/f, '.2f'), \"m\")      # L(m) = 71.3 / F\n",
    "print(\"Counterpoise (drag/short) =\", format(56/f, '.2f'), \"m\")   # L(m) = 56/f"
   ]
  },
  {
   "cell_type": "code",
   "execution_count": 99,
   "metadata": {},
   "outputs": [],
   "source": [
    "# TODO\n",
    "# OPTIONAL: Smith Chart plot of load coil\n",
    "\n",
    "# Install scikit-rf to plot the load coil inductance on a smith chart\n",
    "# %pip install scikit-rf\n",
    "#from pylab import *\n",
    "\n",
    "#import skrf as rf\n",
    "#from skrf.data import ring_slot\n",
    "#ring_slot\n",
    "#ring_slot.plot_s_smith()"
   ]
  },
  {
   "cell_type": "code",
   "execution_count": null,
   "metadata": {},
   "outputs": [],
   "source": []
  }
 ],
 "metadata": {
  "kernelspec": {
   "display_name": "Python 3",
   "language": "python",
   "name": "python3"
  },
  "language_info": {
   "codemirror_mode": {
    "name": "ipython",
    "version": 3
   },
   "file_extension": ".py",
   "mimetype": "text/x-python",
   "name": "python",
   "nbconvert_exporter": "python",
   "pygments_lexer": "ipython3",
   "version": "3.8.5"
  }
 },
 "nbformat": 4,
 "nbformat_minor": 4
}

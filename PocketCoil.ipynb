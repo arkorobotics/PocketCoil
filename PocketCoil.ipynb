{
 "cells": [
  {
   "cell_type": "markdown",
   "metadata": {},
   "source": [
    "# Pocket Coil\n",
    "-------------------------------------------------------------\n",
    "A simple pocket sized load coil design for a telescoping antenna\n",
    "\n",
    "By: Ara Kourchians - N6ARA"
   ]
  },
  {
   "cell_type": "markdown",
   "metadata": {},
   "source": [
    "### Approach\n",
    "1) Use existing vertical antenna load coil models to calculate required inductance for a given frequency and length antenna\n",
    "\n",
    "2) Calculate coil turns for a given winding diameter and wire diameter"
   ]
  },
  {
   "cell_type": "markdown",
   "metadata": {},
   "source": [
    "### Antenna Load Coil Model\n",
    "Source: J. Hall, \"Off-center loaded dipole antennas\", QST Sept 1974, 28-34\n",
    "\n",
    "\\begin{equation}\n",
    "L_{\\mu H} = \\frac{10^6}{68 \\pi^2 f^2} \\left\\{ \\frac{ \\left[ ln \\frac{24 \\left(\\frac{234}{f} - B\\right)}{D} - 1 \\right] \\left[ \\left(1 - \\frac{fB}{234} \\right)^2 - 1 \\right] }{ \\frac{234}{f} - B } - \\frac{ \\left[ ln \\frac{24 \\left(\\frac{A}{2} - B\\right)}{D} - 1 \\right] \\left[ \\left(\\frac{ \\frac{fA}{2} - fB}{234} \\right)^2 - 1 \\right] }{ \\frac{A}{2} - B } \\right\\}\n",
    "\\end{equation}\n",
    "\n",
    "<u>Where:</u> <br>\n",
    "f = Frequency (Mhz) <br>\n",
    "A = Vertical Antenna Length (ft) <br>\n",
    "B = Distance from Feedpoint to Load Coil (ft) <br>\n",
    "D = Diameter of radiator (in) <br>"
   ]
  },
  {
   "cell_type": "code",
   "execution_count": null,
   "metadata": {},
   "outputs": [],
   "source": [
    " "
   ]
  }
 ],
 "metadata": {
  "kernelspec": {
   "display_name": "Python 3",
   "language": "python",
   "name": "python3"
  },
  "language_info": {
   "codemirror_mode": {
    "name": "ipython",
    "version": 3
   },
   "file_extension": ".py",
   "mimetype": "text/x-python",
   "name": "python",
   "nbconvert_exporter": "python",
   "pygments_lexer": "ipython3",
   "version": "3.8.5"
  }
 },
 "nbformat": 4,
 "nbformat_minor": 4
}

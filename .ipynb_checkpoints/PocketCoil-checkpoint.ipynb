{
 "cells": [
  {
   "cell_type": "markdown",
   "metadata": {},
   "source": [
    "# Pocket Coil\n",
    "-------------------------------------------------------------\n",
    "A simple pocket sized load coil design for a telescoping antenna\n",
    "\n",
    "By: Ara Kourchians - N6ARA"
   ]
  },
  {
   "cell_type": "markdown",
   "metadata": {},
   "source": [
    "### Approach\n",
    "1) Use existing vertical antenna load coil models to calculate required inductance for a given frequency and length antenna\n",
    "\n",
    "2) Calculate coil turns for a given winding diameter and wire diameter\n",
    "\n",
    "3) Calculate counterpoise length"
   ]
  },
  {
   "cell_type": "markdown",
   "metadata": {},
   "source": [
    "### 1 - Antenna Load Coil Model\n",
    "1.1) Source: J. Hall, \"Off-center loaded dipole antennas\", QST Sept 1974, 28-34\n",
    "\n",
    "\\begin{equation}\n",
    "L_{\\mu H} = \\frac{10^6}{68 \\pi^2 f^2} \\left\\{ \\frac{ \\left[ ln \\frac{24 \\left(\\frac{234}{f} - B\\right)}{D} - 1 \\right] \\left[ \\left(1 - \\frac{fB}{234} \\right)^2 - 1 \\right] }{ \\frac{234}{f} - B } - \\frac{ \\left[ ln \\frac{24 \\left(\\frac{A}{2} - B\\right)}{D} - 1 \\right] \\left[ \\left(\\frac{ \\frac{fA}{2} - fB}{234} \\right)^2 - 1 \\right] }{ \\frac{A}{2} - B } \\right\\}\n",
    "\\end{equation}\n",
    "\n",
    "    <u>Where:</u> <br>\n",
    "    f = Frequency (MHz) <br>\n",
    "    A = Length of Dipole (ft) <br>\n",
    "    B = Distance from Feedpoint to Load Coil (ft) <br>\n",
    "    D = Diameter of radiator (in) <br>\n",
    "    <br><br>\n",
    "\n",
    "\n",
    "1.2) Simplify by multiplying A by 2 so the input is the Vertical Antenna Length\n",
    "\n",
    "\\begin{equation}\n",
    "L_{\\mu H} = \\frac{10^6}{68 \\pi^2 f^2} \\left\\{ \\frac{ \\left[ ln \\frac{24 \\left(\\frac{234}{f} - B\\right)}{D} - 1 \\right] \\left[ \\left(1 - \\frac{fB}{234} \\right)^2 - 1 \\right] }{ \\frac{234}{f} - B } - \\frac{ \\left[ ln \\frac{24 \\left(A - B\\right)}{D} - 1 \\right] \\left[ \\left(\\frac{fA - fB}{234} \\right)^2 - 1 \\right] }{ A - B } \\right\\}\n",
    "\\end{equation}\n",
    "\n",
    "    <u>Where:</u> <br>\n",
    "    f = Frequency (MHz) <br>\n",
    "    A = Vertical Antenna Length (ft) <br>\n",
    "    B = Distance from Feedpoint to Load Coil (ft) <br>\n",
    "    D = Diameter of radiator (in) <br>\n",
    "    <br><br>\n",
    "\n",
    "1.3) Now we convert this equation into sensible units: <br>\n",
    "\n",
    "    1 m = 3.28084 ft <br>\n",
    "    1 mm = 0.0393701 in <br>\n",
    "\n",
    "\\begin{equation}\n",
    "L_{\\mu H} = \\frac{10^6}{68 \\pi^2 f^2} \\left\\{ \\frac{ \\left[ ln \\frac{24 \\left(\\frac{234}{f} - (B*3.28084)\\right)}{D*0.0393701} - 1 \\right] \\left[ \\left(1 - \\frac{f*(B*3.28084)}{234} \\right)^2 - 1 \\right] }{ \\frac{234}{f} - (B*3.28084) } - \\frac{ \\left[ ln \\frac{24 \\left((A*3.28084) - (B*3.28084)\\right)}{D*0.0393701} - 1 \\right] \\left[ \\left(\\frac{f(A*3.28084) - f*(B*3.28084)}{234} \\right)^2 - 1 \\right] }{ (A*3.28084) - (B*3.28084) } \\right\\}\n",
    "\\end{equation}\n",
    "\n",
    "    <u>Where:</u> <br>\n",
    "    f = Frequency (MHz) <br>\n",
    "    A = Vertical Antenna Length (m) <br>\n",
    "    B = Distance from Feedpoint to Load Coil (m) <br>\n",
    "    D = Diameter of radiator (mm) <br>\n",
    "    <br><br>"
   ]
  },
  {
   "cell_type": "code",
   "execution_count": 74,
   "metadata": {},
   "outputs": [],
   "source": [
    "import numpy as np\n",
    "\n",
    "f = 14.000  # MHz\n",
    "A = 0.9906  # m\n",
    "B = 0       # m\n",
    "D = 1.02362 # mm"
   ]
  },
  {
   "cell_type": "code",
   "execution_count": 75,
   "metadata": {},
   "outputs": [
    {
     "name": "stdout",
     "output_type": "stream",
     "text": [
      "L_uH = 14.782704813471176 uH\n"
     ]
    }
   ],
   "source": [
    "LuH = (10**6)/(68*(np.pi**2)*(f**2)) * \\\n",
    "(\n",
    "\n",
    "( \n",
    "\t( \n",
    "\t(np.log((24*((234/f)-(B*3.28084)))/(D*0.0393701)) - 1) * (((1-((f*(B*3.28084))/234))**2) - 1) \n",
    "\t)\n",
    "\t/( (234/f)-(B*3.28084) )\n",
    ")\n",
    "\n",
    "-\n",
    "\n",
    "( \n",
    "\t( \n",
    "\t(np.log((24*((A*3.28084)-(B*3.28084)))/(D*0.0393701)) - 1) * (((((f*(A*3.28084))-(f*(B*3.28084)))/234)**2) - 1) \n",
    "\t)\n",
    "\t/( (A*3.28084)-(B*3.28084) ) \n",
    ")\n",
    "\n",
    ")\n",
    "\n",
    "print(\"L_uH =\", LuH, \"uH\")"
   ]
  },
  {
   "cell_type": "code",
   "execution_count": null,
   "metadata": {},
   "outputs": [],
   "source": []
  }
 ],
 "metadata": {
  "kernelspec": {
   "display_name": "Python 3",
   "language": "python",
   "name": "python3"
  },
  "language_info": {
   "codemirror_mode": {
    "name": "ipython",
    "version": 3
   },
   "file_extension": ".py",
   "mimetype": "text/x-python",
   "name": "python",
   "nbconvert_exporter": "python",
   "pygments_lexer": "ipython3",
   "version": "3.8.5"
  }
 },
 "nbformat": 4,
 "nbformat_minor": 4
}
